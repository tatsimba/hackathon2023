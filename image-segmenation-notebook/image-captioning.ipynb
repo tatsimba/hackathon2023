{
 "cells": [
  {
   "cell_type": "code",
   "execution_count": 25,
   "metadata": {},
   "outputs": [
    {
     "name": "stdout",
     "output_type": "stream",
     "text": [
      "shoes color is black and white\n",
      "araffes feet in black and white sneakers standing on a brick wall\n"
     ]
    }
   ],
   "source": [
    "import requests\n",
    "from PIL import Image\n",
    "from transformers import BlipProcessor, BlipForConditionalGeneration\n",
    "\n",
    "processor = BlipProcessor.from_pretrained(\"Salesforce/blip-image-captioning-large\")\n",
    "model = BlipForConditionalGeneration.from_pretrained(\"Salesforce/blip-image-captioning-large\")\n",
    "\n",
    "# img_url = 'https://storage.googleapis.com/sfr-vision-language-research/BLIP/demo.jpg' \n",
    "# raw_image = Image.open(requests.get(img_url, stream=True).raw).convert('RGB')\n",
    "image_path = \"C:\\\\Users\\\\ilankhirin\\\\Downloads\\\\tuxedoBlack3-main.jpg\"\n",
    "image_path = \"C:\\\\Users\\\\ilankhirin\\\\Downloads\\\\istockphoto-155131149-612x612.jpg\"\n",
    "image_path = \"C:\\\\Users\\\\ilankhirin\\\\Downloads\\\\322984081_max.jpg\"\n",
    "image_path = \"C:\\\\Users\\\\ilankhirin\\\\Downloads\\\\ilan-shoes-crop.jpg\"\n",
    "raw_image = Image.open(image_path)\n",
    "\n",
    "# conditional image captioning\n",
    "text = \"The person in the image is wearing \"\n",
    "text = \"Shoes color is \"\n",
    "inputs = processor(raw_image, text, return_tensors=\"pt\")\n",
    "\n",
    "out = model.generate(**inputs)\n",
    "print(processor.decode(out[0], skip_special_tokens=True))\n",
    "\n",
    "# unconditional image captioning\n",
    "inputs = processor(raw_image, return_tensors=\"pt\")\n",
    "\n",
    "out = model.generate(**inputs)\n",
    "print(processor.decode(out[0], skip_special_tokens=True))"
   ]
  },
  {
   "cell_type": "code",
   "execution_count": null,
   "metadata": {},
   "outputs": [],
   "source": []
  }
 ],
 "metadata": {
  "kernelspec": {
   "display_name": "Python 3",
   "language": "python",
   "name": "python3"
  },
  "language_info": {
   "codemirror_mode": {
    "name": "ipython",
    "version": 3
   },
   "file_extension": ".py",
   "mimetype": "text/x-python",
   "name": "python",
   "nbconvert_exporter": "python",
   "pygments_lexer": "ipython3",
   "version": "3.11.4"
  },
  "orig_nbformat": 4
 },
 "nbformat": 4,
 "nbformat_minor": 2
}
