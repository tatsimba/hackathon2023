{
 "cells": [
  {
   "cell_type": "code",
   "execution_count": 1,
   "metadata": {},
   "outputs": [
    {
     "name": "stderr",
     "output_type": "stream",
     "text": [
      "C:\\Users\\ilankhirin\\AppData\\Roaming\\Python\\Python311\\site-packages\\tqdm\\auto.py:21: TqdmWarning: IProgress not found. Please update jupyter and ipywidgets. See https://ipywidgets.readthedocs.io/en/stable/user_install.html\n",
      "  from .autonotebook import tqdm as notebook_tqdm\n"
     ]
    }
   ],
   "source": [
    "from transformers import SegformerImageProcessor, AutoModelForSemanticSegmentation\n",
    "from PIL import Image\n",
    "import requests\n",
    "import matplotlib.pyplot as plt\n",
    "import torch.nn as nn"
   ]
  },
  {
   "cell_type": "code",
   "execution_count": 2,
   "metadata": {},
   "outputs": [
    {
     "name": "stderr",
     "output_type": "stream",
     "text": [
      "C:\\Users\\ilankhirin\\AppData\\Roaming\\Python\\Python311\\site-packages\\transformers\\models\\segformer\\image_processing_segformer.py:100: FutureWarning: The `reduce_labels` parameter is deprecated and will be removed in a future version. Please use `do_reduce_labels` instead.\n",
      "  warnings.warn(\n"
     ]
    }
   ],
   "source": [
    "processor = SegformerImageProcessor.from_pretrained(\"mattmdjaga/segformer_b2_clothes\")\n",
    "model = AutoModelForSemanticSegmentation.from_pretrained(\"mattmdjaga/segformer_b2_clothes\")"
   ]
  },
  {
   "cell_type": "code",
   "execution_count": 8,
   "metadata": {},
   "outputs": [],
   "source": [
    "# url = \"https://lh3.googleusercontent.com/pw/AIL4fc_SQq1OpK_TLxLVb_2UDkjT6DjB7f1unVdDCPZKLdAAXlYxQqX-MXrhI4wrX8pOh_5nKFu0wkW97bAwbbPnXkx9EgOUDmCK0ZVeQ1SfTWghjwSNTjK9dKmh8bnoFS3vc3JzTb5dyBGbHj0fLjD6h50hgLSBIsnrzlupN_vRhEdbJLWXEigYn3wBTQ6nehOZ1el8TVPRrjlDIs98fPzZI3paU_y7d3ZOtYo0F25ptB3SVNDmCeSOXYg-e45A9K97WyAuQ-UM7tubWwP4E7BO2wszjnSsE9DqXjkzgz1Tq6sXqSt5mgli3kYdwmPXq7JTvCREVpFQLzO_OuckNlGPIN9QsVlLt9uIVj5b2ChScHYjwMxQwhTPZYYxQosvp39guyu7QqLRW3w1aJ1UZfgJcCJEKpBkl0YOPC69K7kVZH4nukcFTHgo2VMSC46njz_8BmDpyfPOZmCxpKz6csDRPUAq4fG2DNSq427EuGHYD266tl9GkT4QezVMMxmk2IyDDJTiiLJuvZV5eO61oOTQBXnyK9R-jHfAbwcnXJZEB4vJwCU3sGEY2dUSH8xZKqSH_Qa73yC_iXPksCc-IL6ZcmJ8RE-8zWvFl6T90DhinhoNi6-MswYXaXgtApkazLYKwm4SQ3vhHQa8FPQcIp9ONEkYcXCXGKWaE2gKteEPk63jbDAAB6JdS5jDzPbUYSZny8YUjY7O1RNBhY-6QDCqHdojmDmZC4wbaFy4uds99dCuMhfZZTwdqx9hT-c5lIKca6s5je10f58xhOb0OEVEZU9Bk_VjsFVoBYU_CXTffPzUAnw7WgbqLaVZRFf2ADm6cZ6gAmXDFHN3Oe_bVyg2gO6cPxC--HUe_POIUXEBosan4b9Wfzh_SjHCVosAtYL00LGtoNbLDMXfz-5lfrZebAi_iw=w990-h1315-s-no?authuser=0\"\n",
    "# url = 'https://lh3.googleusercontent.com/pw/AIL4fc9899mig1GiaW7UsfeQ48M0F0hKXzg1je76lHcBP2o1HWB9mJ1_2IXzwoa5ap5L7cfq_164OfXuQCT1Jc6EhuC1yPGYG_BbNatvgPcKQSEXC-aI5VbWtco1nisVqJFVSNUSBMzX9wyQVUKNRhTX5v_Qk5RvxKF7yoyaBaOIQzoKbKfUi9v2rwiHFsWTFSvGMOqHOgUJSY7Cx4q6rlSfvW3_2Fc4ryiSt5KuP1U8oZdLvuhQCNPH5tTjye8u5gN3KsGf4t99GKZIikwXEHy8uMA0z4qGLBM7DxPzPERIEuKNRrkxh58dzBekZVCy4PjYVZC4MjlnQfbPjLFcdjcgczqM5epnkOkP63JuM29ZBbh08fvCQMySmV5tRjNspYRzdA1A5eEzAP-eid37x57OHp0jlR0dBx2be2evEwGw754BqHRJxJr9rJcNjjyEirz-y02SBGaby7ZatUwBiN7nmz54o2xralLfRJlDpCfJ98qvSbHYuNfpxB-xWHG1yKVjS90VP4xY3cEdTrgfqb0znEA_1KfQHYVQDY5KHnU42jCYuC_iHq43FmBecaR2_QJR3Fu4daKAYJWAltPGA3P69slZJKjdrbTRsz7aWJQMb2PwL1wWV2fSOjHVP8od5GyLPg1AVsLMbRuUvk8w5s-V5UxpTu1JCLv2rhZW3NU1lYZuqfoj_Zm8B84yArKFJGFuaHNOn9YLHYRK0VE0EDtHboNFAgUrejssL15Iv9w4t3bvcmIFcPKNhybABNdPTXZ-_p_7W3jp1wexrpBeZjghSjAPwJOM4ouZ0mj6exaQdLhYGdl5Ybk9WGxp_nmFQIugTFd7JdBzCMeO6GOVKbDx54DfRp8DQxKoLVVMJHkY8OIi56FB-oN6fvmPwS6j5E2vRaBk32jG6V7a-5e9krVwdPMMjw=w986-h1315-s-no?authuser=0'\n",
    "url = \"https://plus.unsplash.com/premium_photo-1673210886161-bfcc40f54d1f?ixlib=rb-4.0.3&ixid=MnwxMjA3fDB8MHxzZWFyY2h8MXx8cGVyc29uJTIwc3RhbmRpbmd8ZW58MHx8MHx8&w=1000&q=80\"\n",
    "\n",
    "image = Image.open(requests.get(url, stream=True).raw)"
   ]
  },
  {
   "cell_type": "code",
   "execution_count": 9,
   "metadata": {},
   "outputs": [
    {
     "name": "stdout",
     "output_type": "stream",
     "text": [
      "inputs torch.Size([1, 3, 512, 512])\n",
      "upsampled_logits torch.Size([1, 18, 1500, 1000])\n",
      "torch.Size([1500, 1000])\n",
      "pred_seg torch.Size([1500, 1000])\n"
     ]
    }
   ],
   "source": [
    "\n",
    "inputs = processor(images=image, return_tensors=\"pt\")\n",
    "print(f'inputs {inputs.pixel_values.shape}')\n",
    "outputs = model(**inputs)\n",
    "# print(f'outputs {outputs}')\n",
    "logits = outputs.logits.cpu()\n",
    "\n",
    "upsampled_logits = nn.functional.interpolate(\n",
    "    logits,\n",
    "    size=image.size[::-1],\n",
    "    mode=\"bilinear\",\n",
    "    align_corners=False,\n",
    ")\n",
    "\n",
    "print(f'upsampled_logits {upsampled_logits.shape}')\n",
    "\n",
    "pred_seg = upsampled_logits.argmax(dim=1)[0]\n",
    "print(pred_seg.shape)\n",
    "print(f'pred_seg {pred_seg.shape}')\n",
    "\n"
   ]
  },
  {
   "cell_type": "code",
   "execution_count": null,
   "metadata": {},
   "outputs": [],
   "source": [
    "plt.imshow(pred_seg)"
   ]
  }
 ],
 "metadata": {
  "kernelspec": {
   "display_name": "Python 3",
   "language": "python",
   "name": "python3"
  },
  "language_info": {
   "codemirror_mode": {
    "name": "ipython",
    "version": 3
   },
   "file_extension": ".py",
   "mimetype": "text/x-python",
   "name": "python",
   "nbconvert_exporter": "python",
   "pygments_lexer": "ipython3",
   "version": "3.11.4"
  },
  "orig_nbformat": 4
 },
 "nbformat": 4,
 "nbformat_minor": 2
}
